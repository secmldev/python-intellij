{
 "cells": [
  {
   "cell_type": "markdown",
   "id": "7aa581da",
   "metadata": {},
   "source": [
    "# IntelliJ"
   ]
  },
  {
   "cell_type": "markdown",
   "id": "00ebf674",
   "metadata": {},
   "source": [
    "## 1- # 1- basics of intellij\n",
    "   ### 1.1 Installing IntelliJ\n",
    "     "
   ]
  },
  {
   "cell_type": "markdown",
   "id": "2e65190c",
   "metadata": {},
   "source": [
    "  [\"Youtube video for installation Steps\"](https://www.youtube.com/watch?v=S8cVBE4euus)"
   ]
  },
  {
   "cell_type": "markdown",
   "id": "b12190d9",
   "metadata": {},
   "source": [
    "\n",
    "### 1.2- check how get plugins for python"
   ]
  },
  {
   "cell_type": "markdown",
   "id": "6fe6a3e1",
   "metadata": {},
   "source": [
    "[Adding plugin to IntelliJ for python](https://www.youtube.com/watch?v=OV6k33GH2Vk)"
   ]
  },
  {
   "cell_type": "markdown",
   "id": "e69ed3f1",
   "metadata": {},
   "source": [
    "## 2- how to see plotted graph in IntelliJ6\n"
   ]
  },
  {
   "cell_type": "code",
   "execution_count": 1,
   "id": "2bf8966d",
   "metadata": {},
   "outputs": [
    {
     "data": {
      "image/png": "[encoded data removed]",
      "text/plain": [
       "<Figure size 432x288 with 1 Axes>"
      ]
     },
     "metadata": {
      "needs_background": "light"
     },
     "output_type": "display_data"
    }
   ],
   "source": [
    "import matplotlib.pyplot as plt\n",
    "import pandas_datareader as web\n",
    "import pandas_datareader.data as pd_data\n",
    "\n",
    "stk = web.DataReader(\"HDFC.NS\", data_source=\"yahoo\")\n",
    "# print(stk)\n",
    "# print(\"hdfc.ns imported from yahoo\")\n",
    "\n",
    "stk['Close'].plot()\n",
    "plt.show()"
   ]
  },
  {
   "cell_type": "markdown",
   "id": "93bab704",
   "metadata": {},
   "source": [
    "# 3. Handling Git Versioning control using IntelliJ"
   ]
  },
  {
   "cell_type": "markdown",
   "id": "635a9794",
   "metadata": {},
   "source": [
    "[This is the link to documentation for using git on IntelliJ](https://docs.google.com/document/d/1_FGIr7GU1vQPqZ5AQ3sNP55MCP8ggO8P/edit)"
   ]
  },
  {
   "cell_type": "markdown",
   "id": "63c6eb20",
   "metadata": {},
   "source": [
    "# 4. Moving Jupyter Notebook code to IntelliJ"
   ]
  },
  {
   "cell_type": "markdown",
   "id": "af772695",
   "metadata": {},
   "source": [
    "   - 4.1- Open the .ipynb file which you want to convert\n",
    "   - 4.2- Click on File in menu bar\n",
    "   - 4.3- Then click on Download as dropdown list.\n",
    "   - 4.4- From that drop down list select .py\n",
    "   - 4.5- Download it to your desired location.\n",
    "   - 4.6- Now copy this downloaded .py file into your project directory.\n",
    "   - 4.7- When you open the directory in IntelliJ, the Jupyter Notebook code will be present there."
   ]
  },
  {
   "cell_type": "markdown",
   "id": "fa782da3",
   "metadata": {},
   "source": [
    "# 5. Difference between IntelliJ and Jupyter"
   ]
  },
  {
   "cell_type": "markdown",
   "id": "2703a173",
   "metadata": {},
   "source": [
    "[Some Difference we can get here](https://www.geeksforgeeks.org/difference-between-jupyter-and-pycharm/)"
   ]
  },
  {
   "cell_type": "markdown",
   "id": "a0744c89",
   "metadata": {},
   "source": [
    "### Some more differences are listed below\n",
    "- We can create different packages in IntelliJ, but not in Jupyter.\n",
    "- We can configure cloud platform like AWS account on IntelliJ but not in Jupyter\n",
    "- We can create project using different languages in IntelliJ\n",
    "- Since IDE have more user friendly configuration GUI setting process hence IntelliJ is preferred over Jupyter."
   ]
  },
  {
   "cell_type": "markdown",
   "id": "a30c3c5a",
   "metadata": {},
   "source": [
    "# 6. Creating Packages"
   ]
  },
  {
   "cell_type": "markdown",
   "id": "29340005",
   "metadata": {},
   "source": [
    "- In Project Explorer pane right click \n",
    "- Now click on Python Package\n",
    "- After that you will get a window for package.\n",
    "- Write the name of package, and click enter."
   ]
  },
  {
   "cell_type": "markdown",
   "id": "8bbd6c41",
   "metadata": {},
   "source": [
    "## 6.1 Ways of creating packages\n",
    "\n",
    "- For individual package just write package name and press Enter key\n",
    "- If you want to create package like a package containing another package. this is the format to write names of different packages \n",
    "    - [first_Package].[second_package]"
   ]
  },
  {
   "cell_type": "markdown",
   "id": "eb99733e",
   "metadata": {},
   "source": [
    "# 7. Shortcuts of IntelliJ"
   ]
  },
  {
   "cell_type": "markdown",
   "id": "5acf6d05",
   "metadata": {},
   "source": [
    "[Here you can get frequestly used shortcuts in IntelliJ](https://www.jetbrains.com/help/idea/mastering-keyboard-shortcuts.html)"
   ]
  },
  {
   "cell_type": "code",
   "execution_count": null,
   "id": "a29c9f17",
   "metadata": {},
   "outputs": [],
   "source": []
  }
 ],
 "metadata": {
  "kernelspec": {
   "display_name": "Python 3 (ipykernel)",
   "language": "python",
   "name": "python3"
  },
  "language_info": {
   "codemirror_mode": {
    "name": "ipython",
    "version": 3
   },
   "file_extension": ".py",
   "mimetype": "text/x-python",
   "name": "python",
   "nbconvert_exporter": "python",
   "pygments_lexer": "ipython3",
   "version": "3.9.7"
  }
 },
 "nbformat": 4,
 "nbformat_minor": 5
}
